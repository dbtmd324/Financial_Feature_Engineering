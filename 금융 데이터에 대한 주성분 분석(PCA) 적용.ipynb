{
 "cells": [
  {
   "cell_type": "markdown",
   "id": "238cb71a",
   "metadata": {},
   "source": [
    "# 금융 데이터에 대한 주성분 분석(PCA) 적용"
   ]
  },
  {
   "cell_type": "markdown",
   "id": "76865add",
   "metadata": {},
   "source": [
    "## 1. PCA란?"
   ]
  },
  {
   "cell_type": "markdown",
   "id": "1372022c",
   "metadata": {},
   "source": [
    "주성분분석(Principal Component Analysis, 이하 PCA)은 고차원의 데이터셋을 저차원으로 바꾸는 테크닉\n",
    "- 여기서 차원이라 하면 input 변수의 개수라고 생각\n",
    "- 일식을 만들 때 간장, 설탕, 맛술 세 가지 양념을 넣는 대신 쯔유 한 가지를 넣는것과 비슷함\n",
    "- 적당한 비율의 간장, 설탕, 맛술을 섞는 것을 수학에서는 선형결합(Linear Combination)이라고 함\n",
    "- PCA 결과인 주성분(Principal Component, PC)들은 원래 input들의 선형결합으로 이루어져 있음"
   ]
  },
  {
   "cell_type": "markdown",
   "id": "017fc4bd",
   "metadata": {},
   "source": [
    "## 2. 금융 데이터에 PCA가 필요한 이유"
   ]
  },
  {
   "cell_type": "markdown",
   "id": "2463d678",
   "metadata": {},
   "source": [
    "## 3. 적용 실습"
   ]
  },
  {
   "cell_type": "code",
   "execution_count": 1,
   "id": "32639aad",
   "metadata": {},
   "outputs": [
    {
     "name": "stderr",
     "output_type": "stream",
     "text": [
      "/Users/won-yooseung/opt/miniconda3/lib/python3.9/site-packages/tqdm/auto.py:22: TqdmWarning: IProgress not found. Please update jupyter and ipywidgets. See https://ipywidgets.readthedocs.io/en/stable/user_install.html\n",
      "  from .autonotebook import tqdm as notebook_tqdm\n"
     ]
    }
   ],
   "source": [
    "# 라이브러리 임포트\n",
    "\n",
    "import numpy as np\n",
    "import pandas as pd\n",
    "import matplotlib.pyplot as plt\n",
    "import seaborn as sns\n",
    "import torch"
   ]
  },
  {
   "cell_type": "code",
   "execution_count": null,
   "id": "181b41bd",
   "metadata": {},
   "outputs": [],
   "source": [
    "# AFML SNIPPET 2.1 \n",
    "## PCA Weights from a risk distribution R\n",
    "\n",
    "def pcaWeights(cov, riskDist = None, riskTarget = 1):\n",
    "    # Following the riskAlloc distribution, match riskTarget\n",
    "    eVal, eVec = np. "
   ]
  }
 ],
 "metadata": {
  "kernelspec": {
   "display_name": "Python 3.9.13 ('base')",
   "language": "python",
   "name": "python3"
  },
  "language_info": {
   "codemirror_mode": {
    "name": "ipython",
    "version": 3
   },
   "file_extension": ".py",
   "mimetype": "text/x-python",
   "name": "python",
   "nbconvert_exporter": "python",
   "pygments_lexer": "ipython3",
   "version": "3.9.13"
  },
  "vscode": {
   "interpreter": {
    "hash": "f6ec242b647bc720d71e17b21a57c8c09ac199e812a92464370ade8f6e987f06"
   }
  }
 },
 "nbformat": 4,
 "nbformat_minor": 5
}
